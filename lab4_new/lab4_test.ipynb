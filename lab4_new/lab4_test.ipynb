{
 "cells": [
  {
   "cell_type": "markdown",
   "metadata": {},
   "source": [
    "# Lab4\n",
    "### Import nesssary model"
   ]
  },
  {
   "cell_type": "code",
   "execution_count": 28,
   "metadata": {},
   "outputs": [],
   "source": [
    "import pandas as pd\n",
    "from pandas import Series, DataFrame\n",
    "import numpy as np\n",
    "from IPython.display import Image\n",
    "np.set_printoptions(precision = 3)"
   ]
  },
  {
   "cell_type": "markdown",
   "metadata": {},
   "source": [
    "### Load data"
   ]
  },
  {
   "cell_type": "code",
   "execution_count": 29,
   "metadata": {},
   "outputs": [],
   "source": [
    "data = pd.read_csv(\"jester-data-1.csv\", header=None)\n",
    "#del data[\"0\"]\n",
    "#d = data.to_latex()\n",
    "#text_file = open(\"Output_lab4_test.txt\", \"w\")\n",
    "#text_file.write(d)\n",
    "#text_file.close()"
   ]
  },
  {
   "cell_type": "code",
   "execution_count": 30,
   "metadata": {},
   "outputs": [],
   "source": [
    "data.columns\n",
    "del data[data.columns[0]]"
   ]
  },
  {
   "cell_type": "code",
   "execution_count": 31,
   "metadata": {},
   "outputs": [
    {
     "data": {
      "text/html": [
       "<div>\n",
       "<style scoped>\n",
       "    .dataframe tbody tr th:only-of-type {\n",
       "        vertical-align: middle;\n",
       "    }\n",
       "\n",
       "    .dataframe tbody tr th {\n",
       "        vertical-align: top;\n",
       "    }\n",
       "\n",
       "    .dataframe thead th {\n",
       "        text-align: right;\n",
       "    }\n",
       "</style>\n",
       "<table border=\"1\" class=\"dataframe\">\n",
       "  <thead>\n",
       "    <tr style=\"text-align: right;\">\n",
       "      <th></th>\n",
       "      <th>1</th>\n",
       "      <th>2</th>\n",
       "      <th>3</th>\n",
       "      <th>4</th>\n",
       "      <th>5</th>\n",
       "      <th>6</th>\n",
       "      <th>7</th>\n",
       "      <th>8</th>\n",
       "      <th>9</th>\n",
       "      <th>10</th>\n",
       "      <th>...</th>\n",
       "      <th>91</th>\n",
       "      <th>92</th>\n",
       "      <th>93</th>\n",
       "      <th>94</th>\n",
       "      <th>95</th>\n",
       "      <th>96</th>\n",
       "      <th>97</th>\n",
       "      <th>98</th>\n",
       "      <th>99</th>\n",
       "      <th>100</th>\n",
       "    </tr>\n",
       "  </thead>\n",
       "  <tbody>\n",
       "    <tr>\n",
       "      <th>0</th>\n",
       "      <td>-7.82</td>\n",
       "      <td>8.79</td>\n",
       "      <td>-9.66</td>\n",
       "      <td>-8.16</td>\n",
       "      <td>-7.52</td>\n",
       "      <td>-8.50</td>\n",
       "      <td>-9.85</td>\n",
       "      <td>4.17</td>\n",
       "      <td>-8.98</td>\n",
       "      <td>-4.76</td>\n",
       "      <td>...</td>\n",
       "      <td>2.82</td>\n",
       "      <td>99.00</td>\n",
       "      <td>99.00</td>\n",
       "      <td>99.00</td>\n",
       "      <td>99.00</td>\n",
       "      <td>99.00</td>\n",
       "      <td>-5.63</td>\n",
       "      <td>99.00</td>\n",
       "      <td>99.00</td>\n",
       "      <td>99.00</td>\n",
       "    </tr>\n",
       "    <tr>\n",
       "      <th>1</th>\n",
       "      <td>4.08</td>\n",
       "      <td>-0.29</td>\n",
       "      <td>6.36</td>\n",
       "      <td>4.37</td>\n",
       "      <td>-2.38</td>\n",
       "      <td>-9.66</td>\n",
       "      <td>-0.73</td>\n",
       "      <td>-5.34</td>\n",
       "      <td>8.88</td>\n",
       "      <td>9.22</td>\n",
       "      <td>...</td>\n",
       "      <td>2.82</td>\n",
       "      <td>-4.95</td>\n",
       "      <td>-0.29</td>\n",
       "      <td>7.86</td>\n",
       "      <td>-0.19</td>\n",
       "      <td>-2.14</td>\n",
       "      <td>3.06</td>\n",
       "      <td>0.34</td>\n",
       "      <td>-4.32</td>\n",
       "      <td>1.07</td>\n",
       "    </tr>\n",
       "    <tr>\n",
       "      <th>2</th>\n",
       "      <td>99.00</td>\n",
       "      <td>99.00</td>\n",
       "      <td>99.00</td>\n",
       "      <td>99.00</td>\n",
       "      <td>9.03</td>\n",
       "      <td>9.27</td>\n",
       "      <td>9.03</td>\n",
       "      <td>9.27</td>\n",
       "      <td>99.00</td>\n",
       "      <td>99.00</td>\n",
       "      <td>...</td>\n",
       "      <td>99.00</td>\n",
       "      <td>99.00</td>\n",
       "      <td>99.00</td>\n",
       "      <td>9.08</td>\n",
       "      <td>99.00</td>\n",
       "      <td>99.00</td>\n",
       "      <td>99.00</td>\n",
       "      <td>99.00</td>\n",
       "      <td>99.00</td>\n",
       "      <td>99.00</td>\n",
       "    </tr>\n",
       "    <tr>\n",
       "      <th>3</th>\n",
       "      <td>99.00</td>\n",
       "      <td>8.35</td>\n",
       "      <td>99.00</td>\n",
       "      <td>99.00</td>\n",
       "      <td>1.80</td>\n",
       "      <td>8.16</td>\n",
       "      <td>-2.82</td>\n",
       "      <td>6.21</td>\n",
       "      <td>99.00</td>\n",
       "      <td>1.84</td>\n",
       "      <td>...</td>\n",
       "      <td>99.00</td>\n",
       "      <td>99.00</td>\n",
       "      <td>99.00</td>\n",
       "      <td>0.53</td>\n",
       "      <td>99.00</td>\n",
       "      <td>99.00</td>\n",
       "      <td>99.00</td>\n",
       "      <td>99.00</td>\n",
       "      <td>99.00</td>\n",
       "      <td>99.00</td>\n",
       "    </tr>\n",
       "    <tr>\n",
       "      <th>4</th>\n",
       "      <td>8.50</td>\n",
       "      <td>4.61</td>\n",
       "      <td>-4.17</td>\n",
       "      <td>-5.39</td>\n",
       "      <td>1.36</td>\n",
       "      <td>1.60</td>\n",
       "      <td>7.04</td>\n",
       "      <td>4.61</td>\n",
       "      <td>-0.44</td>\n",
       "      <td>5.73</td>\n",
       "      <td>...</td>\n",
       "      <td>5.19</td>\n",
       "      <td>5.58</td>\n",
       "      <td>4.27</td>\n",
       "      <td>5.19</td>\n",
       "      <td>5.73</td>\n",
       "      <td>1.55</td>\n",
       "      <td>3.11</td>\n",
       "      <td>6.55</td>\n",
       "      <td>1.80</td>\n",
       "      <td>1.60</td>\n",
       "    </tr>\n",
       "  </tbody>\n",
       "</table>\n",
       "<p>5 rows × 100 columns</p>\n",
       "</div>"
      ],
      "text/plain": [
       "     1      2      3      4     5     6     7     8      9      10   ...    \\\n",
       "0  -7.82   8.79  -9.66  -8.16 -7.52 -8.50 -9.85  4.17  -8.98  -4.76  ...     \n",
       "1   4.08  -0.29   6.36   4.37 -2.38 -9.66 -0.73 -5.34   8.88   9.22  ...     \n",
       "2  99.00  99.00  99.00  99.00  9.03  9.27  9.03  9.27  99.00  99.00  ...     \n",
       "3  99.00   8.35  99.00  99.00  1.80  8.16 -2.82  6.21  99.00   1.84  ...     \n",
       "4   8.50   4.61  -4.17  -5.39  1.36  1.60  7.04  4.61  -0.44   5.73  ...     \n",
       "\n",
       "     91     92     93     94     95     96     97     98     99     100  \n",
       "0   2.82  99.00  99.00  99.00  99.00  99.00  -5.63  99.00  99.00  99.00  \n",
       "1   2.82  -4.95  -0.29   7.86  -0.19  -2.14   3.06   0.34  -4.32   1.07  \n",
       "2  99.00  99.00  99.00   9.08  99.00  99.00  99.00  99.00  99.00  99.00  \n",
       "3  99.00  99.00  99.00   0.53  99.00  99.00  99.00  99.00  99.00  99.00  \n",
       "4   5.19   5.58   4.27   5.19   5.73   1.55   3.11   6.55   1.80   1.60  \n",
       "\n",
       "[5 rows x 100 columns]"
      ]
     },
     "execution_count": 31,
     "metadata": {},
     "output_type": "execute_result"
    }
   ],
   "source": [
    "data.head()"
   ]
  },
  {
   "cell_type": "markdown",
   "metadata": {},
   "source": [
    "### Prepare the dataset"
   ]
  },
  {
   "cell_type": "code",
   "execution_count": 32,
   "metadata": {},
   "outputs": [],
   "source": [
    "#user_ratings = data.values\n",
    "user_ratings = data.values[0:100]"
   ]
  },
  {
   "cell_type": "code",
   "execution_count": 33,
   "metadata": {},
   "outputs": [
    {
     "name": "stdout",
     "output_type": "stream",
     "text": [
      "[[99.   99.   99.   ... 99.   99.   99.  ]\n",
      " [99.   99.   99.   ... 99.   99.   99.  ]\n",
      " [99.   99.   99.   ... 99.   99.   99.  ]\n",
      " ...\n",
      " [99.   99.   99.   ... 99.   99.   99.  ]\n",
      " [99.   99.    4.37 ... 99.    1.17 99.  ]\n",
      " [99.   99.   99.   ... 99.   99.   99.  ]] \n",
      " 728 \n",
      " 0.0728\n"
     ]
    }
   ],
   "source": [
    "user_ratings_vali = np.zeros(user_ratings.shape) + 99.0\n",
    "user_ratings_copy = user_ratings.copy() \n",
    "count = 0\n",
    "loc_log = []\n",
    "for x in range(0,user_ratings.shape[0]):\n",
    "    for y in range(0,user_ratings.shape[1]):\n",
    "        if (user_ratings_copy[x,y]!=99.0):\n",
    "            if (np.random.random() > 0.9):\n",
    "                count += 1\n",
    "                temp = user_ratings_copy[x,y]\n",
    "                user_ratings_copy[x,y] = user_ratings_vali[x,y]\n",
    "                user_ratings_vali[x,y] = temp\n",
    "                loc_log.append((x,y))\n",
    "                #print(temp)\n",
    "print(user_ratings_vali,'\\n', count,'\\n', count/(user_ratings.shape[0]*user_ratings.shape[1]))"
   ]
  },
  {
   "cell_type": "markdown",
   "metadata": {},
   "source": [
    "### Prepare the predicte matrix"
   ]
  },
  {
   "cell_type": "code",
   "execution_count": 34,
   "metadata": {},
   "outputs": [],
   "source": [
    "n_features = 10\n",
    "latent_user_preferences = np.random.random((user_ratings.shape[0], n_features))\n",
    "latent_item_features = np.random.random((user_ratings.shape[1],n_features))"
   ]
  },
  {
   "cell_type": "code",
   "execution_count": 35,
   "metadata": {},
   "outputs": [
    {
     "name": "stdout",
     "output_type": "stream",
     "text": [
      "user_ratings.shape:            (100, 100)\n",
      "latent_user_preferences.shape: (100, 10)\n",
      "latent_item_features.shape:    (100, 10)\n"
     ]
    }
   ],
   "source": [
    "print('user_ratings.shape:           ',user_ratings.shape)\n",
    "print('latent_user_preferences.shape:',latent_user_preferences.shape)\n",
    "print('latent_item_features.shape:   ',latent_item_features.shape)"
   ]
  },
  {
   "cell_type": "code",
   "execution_count": 36,
   "metadata": {},
   "outputs": [
    {
     "data": {
      "text/plain": [
       "(array([[-7.82,  8.79, -9.66, ..., 99.  , 99.  , 99.  ],\n",
       "        [ 4.08, -0.29,  6.36, ...,  0.34, -4.32,  1.07],\n",
       "        [99.  , 99.  , 99.  , ..., 99.  , 99.  , 99.  ],\n",
       "        ...,\n",
       "        [99.  , 99.  , 99.  , ..., 99.  , 99.  , 99.  ],\n",
       "        [ 3.3 ,  1.31,  4.37, ..., -0.44,  1.17,  6.5 ],\n",
       "        [99.  , 99.  , 99.  , ..., 99.  , 99.  , 99.  ]]), (100, 100))"
      ]
     },
     "execution_count": 36,
     "metadata": {},
     "output_type": "execute_result"
    }
   ],
   "source": [
    "user_ratings, user_ratings.shape"
   ]
  },
  {
   "cell_type": "code",
   "execution_count": 37,
   "metadata": {},
   "outputs": [
    {
     "data": {
      "text/plain": [
       "0.025470774798735385"
      ]
     },
     "execution_count": 37,
     "metadata": {},
     "output_type": "execute_result"
    }
   ],
   "source": [
    "np.random.random()"
   ]
  },
  {
   "cell_type": "markdown",
   "metadata": {},
   "source": [
    "### Training function"
   ]
  },
  {
   "cell_type": "code",
   "execution_count": 57,
   "metadata": {},
   "outputs": [],
   "source": [
    "    train_mse_loglist = []\n",
    "    test_mse_loglist = []"
   ]
  },
  {
   "cell_type": "code",
   "execution_count": 42,
   "metadata": {},
   "outputs": [],
   "source": [
    "def predict_rating(user_id,item_id):\n",
    "    \"\"\" Predict a rating given a user_id and an item_id.\n",
    "    \"\"\"\n",
    "    user_preference = latent_user_preferences[user_id]\n",
    "    item_preference = latent_item_features[item_id]\n",
    "    return user_preference.dot(item_preference)  #linear\n",
    "\n",
    "def train(user_id, item_id, rating,alpha = 0.001):\n",
    "    \n",
    "    #print (item_id)\n",
    "    prediction_rating = predict_rating(user_id, item_id)\n",
    "    err =  ( prediction_rating- rating );\n",
    "    #print (err)\n",
    "    user_pref_values = latent_user_preferences[user_id][:]\n",
    "    latent_user_preferences[user_id] -= alpha * err * latent_item_features[item_id]\n",
    "    latent_item_features[item_id] -= alpha * err * user_pref_values\n",
    "    return err\n",
    "    \n",
    "\n",
    "\n",
    "def sgd(iterations = 100000):\n",
    "    \"\"\" Iterate over all users and all items and train for \n",
    "        a certain number of iterations\n",
    "    \"\"\"\n",
    "    err_mse_log = 99999.0\n",
    "    for iteration in range(0,iterations):\n",
    "        error = []\n",
    "        vali_err = []\n",
    "        for user_id in range(0,latent_user_preferences.shape[0]):\n",
    "            for item_id in range(0,latent_item_features.shape[0]):\n",
    "                rating = user_ratings_copy[user_id][item_id]\n",
    "                if(rating != 99):\n",
    "                    err = train(user_id,item_id,rating)\n",
    "                    error.append(err)\n",
    "                    #print(rating)\n",
    "        mse = (np.array(error) ** 2).mean()\n",
    "        train_mse_loglist.append(mse)\n",
    "        err_mse = mse - err_mse_log\n",
    "        #if (err_mse>0):\n",
    "        #    print(mse, err_mse, err_mse_log)\n",
    "        #    break\n",
    "        err_mse_log = mse\n",
    "        for loc in loc_log:\n",
    "            vali_err.append()\n",
    "        #print(iteration)\n",
    "        if(iteration%100 == 0 ):\n",
    "            print (iteration, ':=', mse, err_mse)\n",
    "                    \n",
    "                    \n",
    "    "
   ]
  },
  {
   "cell_type": "code",
   "execution_count": 43,
   "metadata": {},
   "outputs": [
    {
     "name": "stdout",
     "output_type": "stream",
     "text": [
      "0 := 25.302818106084313 -99973.69718189392\n",
      "100 := 9.468437509515876 -0.0149667198451926\n",
      "200 := 8.816884401573693 -0.0027566823903075743\n",
      "300 := 8.663633302245998 -0.000799788073438279\n",
      "400 := 8.613760298498988 -0.000299705486211721\n",
      "500 := 8.59367959552917 -0.00012992659948452\n",
      "600 := 8.58484128481654 -5.6231869628220466e-05\n",
      "700 := 8.581393406371976 -1.6578686647505947e-05\n",
      "800 := 8.581081701211616 8.449961688583585e-06\n",
      "900 := 8.582863306025104 2.611962907295151e-05\n",
      "1000 := 8.586186197333218 3.969087132027482e-05\n",
      "1100 := 8.590734567687415 5.086174972745994e-05\n",
      "1200 := 8.596322412605371 6.0624115436169745e-05\n",
      "1300 := 8.602843904696337 6.963620292665951e-05\n",
      "1400 := 8.61025108881478 7.842419609538354e-05\n",
      "1500 := 8.61854720839163 8.749907228633447e-05\n",
      "1600 := 8.627787418601379 9.738244230739213e-05\n",
      "1700 := 8.638075876456442 0.00010850675039364432\n",
      "1800 := 8.64954797416337 0.00012104012626146243\n",
      "1900 := 8.662338773436156 0.00013481854260533055\n",
      "2000 := 8.676555843799454 0.0001494971596063266\n",
      "2100 := 8.692273155297146 0.00016478095693273076\n",
      "2200 := 8.709543283176668 0.0001805416878255528\n",
      "2300 := 8.728414064645158 0.0001968020847726848\n",
      "2400 := 8.74894057770212 0.00021367294896634803\n",
      "2500 := 8.771191183765952 0.00023130244743185813\n",
      "2600 := 8.795249747908736 0.00024984969157593184\n",
      "2700 := 8.821216158408255 0.0002694753989480603\n",
      "2800 := 8.849206412048202 0.0002903413380721531\n",
      "2900 := 8.879352863979179 0.00031261357245604415\n",
      "3000 := 8.911804890088801 0.0003364672296495286\n",
      "3100 := 8.946730067347113 0.0003620920365854374\n",
      "3200 := 8.98431594437665 0.0003896986211877618\n",
      "3300 := 9.02477249680258 0.0004195259883559288\n",
      "3400 := 9.068335418075337 0.0004518508772566321\n",
      "3500 := 9.11527048302919 0.0004870000346581804\n",
      "3600 := 9.165879346503566 0.0005253668960882862\n",
      "3700 := 9.22050732112846 0.0005674348625088754\n",
      "3800 := 9.279553948309408 0.0006138104577058101\n",
      "3900 := 9.343487587278215 0.0006652714251220715\n",
      "4000 := 9.412865889100859 0.000722837772240581\n",
      "4100 := 9.488365055705577 0.000787878835424749\n",
      "4200 := 9.570822502317359 0.000862278456532195\n",
      "4300 := 9.661300505244233 0.0009486970250645044\n",
      "4400 := 9.761183727142487 0.0010510010172275486\n",
      "4500 := 9.872333387045092 0.0011749934050797606\n",
      "4600 := 9.997339785857351 0.0013297034336083868\n",
      "4700 := 10.139951763999006 0.0015297376510794436\n",
      "4800 := 10.305831255939111 0.0017996024591280246\n",
      "4900 := 10.503890127337536 0.002181137035131897\n",
      "5000 := 10.748481524612087 0.002741946064370282\n",
      "5100 := 11.061565361007158 0.0035567218033545345\n"
     ]
    },
    {
     "ename": "KeyboardInterrupt",
     "evalue": "",
     "output_type": "error",
     "traceback": [
      "\u001b[0;31m---------------------------------------------------------------------------\u001b[0m",
      "\u001b[0;31mKeyboardInterrupt\u001b[0m                         Traceback (most recent call last)",
      "\u001b[0;32m<ipython-input-43-21e3e9e41ae8>\u001b[0m in \u001b[0;36m<module>\u001b[0;34m()\u001b[0m\n\u001b[0;32m----> 1\u001b[0;31m \u001b[0msgd\u001b[0m\u001b[0;34m(\u001b[0m\u001b[0;34m)\u001b[0m\u001b[0;34m\u001b[0m\u001b[0m\n\u001b[0m",
      "\u001b[0;32m<ipython-input-42-b5afef07d5d1>\u001b[0m in \u001b[0;36msgd\u001b[0;34m(iterations)\u001b[0m\n\u001b[1;32m     28\u001b[0m         \u001b[0;32mfor\u001b[0m \u001b[0muser_id\u001b[0m \u001b[0;32min\u001b[0m \u001b[0mrange\u001b[0m\u001b[0;34m(\u001b[0m\u001b[0;36m0\u001b[0m\u001b[0;34m,\u001b[0m\u001b[0mlatent_user_preferences\u001b[0m\u001b[0;34m.\u001b[0m\u001b[0mshape\u001b[0m\u001b[0;34m[\u001b[0m\u001b[0;36m0\u001b[0m\u001b[0;34m]\u001b[0m\u001b[0;34m)\u001b[0m\u001b[0;34m:\u001b[0m\u001b[0;34m\u001b[0m\u001b[0m\n\u001b[1;32m     29\u001b[0m             \u001b[0;32mfor\u001b[0m \u001b[0mitem_id\u001b[0m \u001b[0;32min\u001b[0m \u001b[0mrange\u001b[0m\u001b[0;34m(\u001b[0m\u001b[0;36m0\u001b[0m\u001b[0;34m,\u001b[0m\u001b[0mlatent_item_features\u001b[0m\u001b[0;34m.\u001b[0m\u001b[0mshape\u001b[0m\u001b[0;34m[\u001b[0m\u001b[0;36m0\u001b[0m\u001b[0;34m]\u001b[0m\u001b[0;34m)\u001b[0m\u001b[0;34m:\u001b[0m\u001b[0;34m\u001b[0m\u001b[0m\n\u001b[0;32m---> 30\u001b[0;31m                 \u001b[0mrating\u001b[0m \u001b[0;34m=\u001b[0m \u001b[0muser_ratings_copy\u001b[0m\u001b[0;34m[\u001b[0m\u001b[0muser_id\u001b[0m\u001b[0;34m]\u001b[0m\u001b[0;34m[\u001b[0m\u001b[0mitem_id\u001b[0m\u001b[0;34m]\u001b[0m\u001b[0;34m\u001b[0m\u001b[0m\n\u001b[0m\u001b[1;32m     31\u001b[0m                 \u001b[0;32mif\u001b[0m\u001b[0;34m(\u001b[0m\u001b[0mrating\u001b[0m \u001b[0;34m!=\u001b[0m \u001b[0;36m99\u001b[0m\u001b[0;34m)\u001b[0m\u001b[0;34m:\u001b[0m\u001b[0;34m\u001b[0m\u001b[0m\n\u001b[1;32m     32\u001b[0m                     \u001b[0merr\u001b[0m \u001b[0;34m=\u001b[0m \u001b[0mtrain\u001b[0m\u001b[0;34m(\u001b[0m\u001b[0muser_id\u001b[0m\u001b[0;34m,\u001b[0m\u001b[0mitem_id\u001b[0m\u001b[0;34m,\u001b[0m\u001b[0mrating\u001b[0m\u001b[0;34m)\u001b[0m\u001b[0;34m\u001b[0m\u001b[0m\n",
      "\u001b[0;31mKeyboardInterrupt\u001b[0m: "
     ]
    }
   ],
   "source": [
    "sgd()"
   ]
  },
  {
   "cell_type": "code",
   "execution_count": 44,
   "metadata": {},
   "outputs": [],
   "source": [
    "del train_mse_loglist[0]"
   ]
  },
  {
   "cell_type": "code",
   "execution_count": 55,
   "metadata": {},
   "outputs": [],
   "source": [
    "import seaborn as sns"
   ]
  },
  {
   "cell_type": "code",
   "execution_count": 53,
   "metadata": {},
   "outputs": [],
   "source": [
    "plotdata1 = DataFrame(np.vstack((np.arange(np.array(train_mse_loglist).shape[0]), train_mse_loglist)).T, columns=['iterations', 'train_MSE'])"
   ]
  },
  {
   "cell_type": "code",
   "execution_count": 56,
   "metadata": {},
   "outputs": [
    {
     "data": {
      "image/png": "[encoded data removed]",
      "text/plain": [
       "<matplotlib.figure.Figure at 0x7f9b82fbef98>"
      ]
     },
     "metadata": {},
     "output_type": "display_data"
    }
   ],
   "source": [
    "sns_plot = sns.lmplot(plotdata1.columns[0], plotdata1.columns[1], data=plotdata1, fit_reg=False)"
   ]
  },
  {
   "cell_type": "code",
   "execution_count": null,
   "metadata": {},
   "outputs": [],
   "source": [
    "latent_user_preferences"
   ]
  },
  {
   "cell_type": "code",
   "execution_count": null,
   "metadata": {},
   "outputs": [],
   "source": [
    "predictions = latent_user_preferences.dot(latent_item_features.T)\n",
    "predictions"
   ]
  },
  {
   "cell_type": "code",
   "execution_count": null,
   "metadata": {
    "scrolled": true
   },
   "outputs": [],
   "source": [
    "values = [zip(user_ratings_copy[i], predictions[i]) for i in range(0,predictions.shape[0])]\n",
    "comparison_data = pd.DataFrame(values)\n",
    "comparison_data.columns = data.columns\n",
    "comparison_data.applymap(lambda x: \"(%2.3f|%2.3f)\"%(x[0],x[1]))\n",
    "#comparison_data.head()"
   ]
  },
  {
   "cell_type": "code",
   "execution_count": null,
   "metadata": {},
   "outputs": [],
   "source": [
    "values = [zip(user_ratings_vali[i], predictions[i]) for i in range(0,predictions.shape[0])]\n",
    "comparison_data = pd.DataFrame(values)\n",
    "comparison_data_err = []\n",
    "for x in range(0, comparison_data.shape[1]):\n",
    "    for y in range(0, comparison_data.shape[0]):\n",
    "        if (comparison_data[x][y][0] == 99.0):\n",
    "            comparison_data[x][y] = (0,0)\n",
    "        else:\n",
    "            comparison_data_err.append(comparison_data[x][y][0] - comparison_data[x][y][1])\n",
    "mse = (np.array(comparison_data_err) ** 2).mean()\n",
    "comparison_data.columns = data.columns\n",
    "comparison_data.applymap(lambda x: [\"(%2.3f|%2.3f)\"%(x[0],x[1]) ])"
   ]
  },
  {
   "cell_type": "code",
   "execution_count": null,
   "metadata": {},
   "outputs": [],
   "source": [
    "mse\n"
   ]
  },
  {
   "cell_type": "code",
   "execution_count": null,
   "metadata": {},
   "outputs": [],
   "source": [
    "predictions"
   ]
  },
  {
   "cell_type": "code",
   "execution_count": null,
   "metadata": {},
   "outputs": [],
   "source": [
    "latent_item_features"
   ]
  },
  {
   "cell_type": "code",
   "execution_count": null,
   "metadata": {},
   "outputs": [],
   "source": [
    "np.savetxt(\"predictions_10f_10.csv\", predictions, delimiter=\",\")\n",
    "np.savetxt(\"latent_user_preferences_10f_10.csv\", latent_user_preferences, delimiter=\",\")\n",
    "np.savetxt(\"latent_item_features_10f_10.csv\", latent_item_features, delimiter=\",\")"
   ]
  },
  {
   "cell_type": "code",
   "execution_count": null,
   "metadata": {},
   "outputs": [],
   "source": []
  }
 ],
 "metadata": {
  "kernelspec": {
   "display_name": "Python 3",
   "language": "python",
   "name": "python3"
  },
  "language_info": {
   "codemirror_mode": {
    "name": "ipython",
    "version": 3
   },
   "file_extension": ".py",
   "mimetype": "text/x-python",
   "name": "python",
   "nbconvert_exporter": "python",
   "pygments_lexer": "ipython3",
   "version": "3.5.2"
  }
 },
 "nbformat": 4,
 "nbformat_minor": 2
}
