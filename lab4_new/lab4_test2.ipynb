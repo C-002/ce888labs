{
 "cells": [
  {
   "cell_type": "markdown",
   "metadata": {},
   "source": [
    "# Lab4\n",
    "## import"
   ]
  },
  {
   "cell_type": "code",
   "execution_count": 60,
   "metadata": {},
   "outputs": [],
   "source": [
    "import pandas as pd\n",
    "import numpy as np"
   ]
  },
  {
   "cell_type": "code",
   "execution_count": 61,
   "metadata": {},
   "outputs": [],
   "source": [
    "data = pd.read_csv(\"jester-data-1.csv\", header=None)"
   ]
  },
  {
   "cell_type": "code",
   "execution_count": 62,
   "metadata": {},
   "outputs": [],
   "source": [
    "#user_ratings = data.values\n",
    "user_ratings = data.values[0:100]"
   ]
  },
  {
   "cell_type": "code",
   "execution_count": 63,
   "metadata": {},
   "outputs": [
    {
     "name": "stdout",
     "output_type": "stream",
     "text": [
      "[[99.   99.   99.   ... 99.   99.   99.  ]\n",
      " [99.   99.   99.   ... 99.   99.    1.07]\n",
      " [49.   99.   99.   ... 99.   99.   99.  ]\n",
      " ...\n",
      " [99.   99.   99.   ... 99.   99.   99.  ]\n",
      " [99.   99.   99.   ... 99.    1.17 99.  ]\n",
      " [99.   99.   99.   ... 99.   99.   99.  ]] \n",
      " 791 \n",
      " 0.07831683168316832\n"
     ]
    }
   ],
   "source": [
    "user_ratings_vali = np.zeros(user_ratings.shape) + 99.0\n",
    "user_ratings_copy = user_ratings.copy() \n",
    "count = 0\n",
    "for x in range(0,user_ratings.shape[0]):\n",
    "    for y in range(0,user_ratings.shape[1]):\n",
    "        if (user_ratings_copy[x,y]!=99.0):\n",
    "            if (np.random.random() > 0.9):\n",
    "                count += 1\n",
    "                temp = user_ratings_copy[x,y]\n",
    "                user_ratings_copy[x,y] = user_ratings_vali[x,y]\n",
    "                user_ratings_vali[x,y] = temp\n",
    "                #print(temp)\n",
    "print(user_ratings_vali,'\\n', count,'\\n', count/(user_ratings.shape[0]*user_ratings.shape[1]))"
   ]
  },
  {
   "cell_type": "code",
   "execution_count": 64,
   "metadata": {},
   "outputs": [],
   "source": [
    "n_features = 10\n",
    "latent_user_preferences = np.random.random((user_ratings.shape[0], n_features))\n",
    "latent_item_features = np.random.random((user_ratings.shape[1],n_features))\n",
    "user_preferences_weights = np.random.random((user_ratings_copy.shape[0], latent_user_preferences.shape[1] ))\n",
    "item_features_weights = np.random.random((user_ratings_copy.shape[1], latent_item_features.shape[1]))"
   ]
  },
  {
   "cell_type": "code",
   "execution_count": 65,
   "metadata": {},
   "outputs": [
    {
     "name": "stdout",
     "output_type": "stream",
     "text": [
      "(100, 10) (101, 10)\n",
      "(100, 10) (101, 10)\n"
     ]
    }
   ],
   "source": [
    "print(user_preferences_weights.shape, item_features_weights.shape)\n",
    "print(latent_user_preferences.shape, latent_item_features.shape)"
   ]
  },
  {
   "cell_type": "markdown",
   "metadata": {},
   "source": [
    "latent_user_preferences   <-  user_features  \n",
    "latent_item_features      <-  item_features  \n",
    "user_preferences_weights  <-  user_features_weights  \n",
    "item_features_weights     <-  item_features_weights  "
   ]
  },
  {
   "cell_type": "code",
   "execution_count": 66,
   "metadata": {},
   "outputs": [],
   "source": [
    "def predict_rating(user_id,item_id):\n",
    "    \"\"\" Predict a rating given a user_id and an item_id.\n",
    "    \"\"\"\n",
    "    user_preference = latent_user_preferences[user_id]\n",
    "    item_preference = latent_item_features[item_id]\n",
    "    \n",
    "    user_score = user_preferences_weights[user_id].dot(latent_user_preferences[user_id])\n",
    "    item_score = item_features_weights[item_id].dot(latent_item_features[item_id])\n",
    "    #print user_preference.dot(item_preference), user_score, item_score\n",
    "    return user_preference.dot(item_preference) + user_score + item_score\n",
    "\n",
    "def train(user_id, item_id, rating,alpha = 0.001, \n",
    "                                   latent_feature_weight_decay = 0.1, \n",
    "                                   user_weight_decay = 0.01,\n",
    "                                   item_weight_decay = 0.0001):\n",
    "    \n",
    "    #print item_id\n",
    "    prediction_rating = predict_rating(user_id, item_id)\n",
    "    err =  ( prediction_rating - rating );\n",
    "    #print err\n",
    "    user_pref_values = latent_user_preferences[user_id][:]\n",
    "    latent_user_preferences[user_id] -= alpha * err *  ( latent_item_features[item_id] + latent_feature_weight_decay*latent_user_preferences[user_id])\n",
    "    latent_item_features[item_id] -= alpha * err * ( user_pref_values + latent_feature_weight_decay*latent_item_features[item_id])\n",
    "    \n",
    "    user_preferences_weights[user_id] -=alpha * err *(  latent_user_preferences[user_id] + user_weight_decay* user_preferences_weights[user_id])\n",
    "    item_features_weights[item_id] -=alpha * err * ( item_features_weights[item_id] + item_weight_decay* item_features_weights[item_id])\n",
    "    \n",
    "    \n",
    "    return err\n",
    "    \n",
    "\n",
    "\n",
    "def sgd(iterations = 1000):\n",
    "    \"\"\" Iterate over all users and all items and train for \n",
    "        a certain number of iterations\n",
    "    \"\"\"\n",
    "    for iteration in range(0,iterations):\n",
    "        error = []\n",
    "        for user_id in range(0,latent_user_preferences.shape[0]):\n",
    "            for item_id in range(0,latent_item_features.shape[0]):\n",
    "                rating = user_ratings[user_id][item_id]\n",
    "                if(rating != 99.0):\n",
    "                    err = train(user_id,item_id,rating)\n",
    "                    error.append(err)\n",
    "    mse = (np.array(error) ** 2).mean()          \n",
    "    print (mse)\n",
    "                 "
   ]
  },
  {
   "cell_type": "code",
   "execution_count": 67,
   "metadata": {},
   "outputs": [
    {
     "name": "stderr",
     "output_type": "stream",
     "text": [
      "/usr/local/lib/python3.5/dist-packages/ipykernel_launcher.py:23: RuntimeWarning: overflow encountered in multiply\n",
      "/usr/local/lib/python3.5/dist-packages/ipykernel_launcher.py:25: RuntimeWarning: overflow encountered in multiply\n",
      "/usr/local/lib/python3.5/dist-packages/ipykernel_launcher.py:25: RuntimeWarning: invalid value encountered in add\n",
      "/usr/local/lib/python3.5/dist-packages/ipykernel_launcher.py:10: RuntimeWarning: invalid value encountered in double_scalars\n",
      "  # Remove the CWD from sys.path while we load stuff.\n",
      "/usr/local/lib/python3.5/dist-packages/ipykernel_launcher.py:22: RuntimeWarning: overflow encountered in multiply\n",
      "/usr/local/lib/python3.5/dist-packages/ipykernel_launcher.py:26: RuntimeWarning: overflow encountered in multiply\n"
     ]
    },
    {
     "name": "stdout",
     "output_type": "stream",
     "text": [
      "nan\n"
     ]
    },
    {
     "ename": "KeyboardInterrupt",
     "evalue": "",
     "output_type": "error",
     "traceback": [
      "\u001b[0;31m---------------------------------------------------------------------------\u001b[0m",
      "\u001b[0;31mKeyboardInterrupt\u001b[0m                         Traceback (most recent call last)",
      "\u001b[0;32m<ipython-input-67-bc9a8f0af632>\u001b[0m in \u001b[0;36m<module>\u001b[0;34m()\u001b[0m\n\u001b[1;32m      1\u001b[0m \u001b[0;32mfor\u001b[0m \u001b[0mi\u001b[0m \u001b[0;32min\u001b[0m \u001b[0mrange\u001b[0m\u001b[0;34m(\u001b[0m\u001b[0;36m0\u001b[0m\u001b[0;34m,\u001b[0m\u001b[0;36m10\u001b[0m\u001b[0;34m)\u001b[0m\u001b[0;34m:\u001b[0m\u001b[0;34m\u001b[0m\u001b[0m\n\u001b[0;32m----> 2\u001b[0;31m     \u001b[0msgd\u001b[0m\u001b[0;34m(\u001b[0m\u001b[0;34m)\u001b[0m\u001b[0;34m\u001b[0m\u001b[0m\n\u001b[0m",
      "\u001b[0;32m<ipython-input-66-9ff447f44a79>\u001b[0m in \u001b[0;36msgd\u001b[0;34m(iterations)\u001b[0m\n\u001b[1;32m     41\u001b[0m                 \u001b[0mrating\u001b[0m \u001b[0;34m=\u001b[0m \u001b[0muser_ratings\u001b[0m\u001b[0;34m[\u001b[0m\u001b[0muser_id\u001b[0m\u001b[0;34m]\u001b[0m\u001b[0;34m[\u001b[0m\u001b[0mitem_id\u001b[0m\u001b[0;34m]\u001b[0m\u001b[0;34m\u001b[0m\u001b[0m\n\u001b[1;32m     42\u001b[0m                 \u001b[0;32mif\u001b[0m\u001b[0;34m(\u001b[0m\u001b[0mrating\u001b[0m \u001b[0;34m!=\u001b[0m \u001b[0;36m99.0\u001b[0m\u001b[0;34m)\u001b[0m\u001b[0;34m:\u001b[0m\u001b[0;34m\u001b[0m\u001b[0m\n\u001b[0;32m---> 43\u001b[0;31m                     \u001b[0merr\u001b[0m \u001b[0;34m=\u001b[0m \u001b[0mtrain\u001b[0m\u001b[0;34m(\u001b[0m\u001b[0muser_id\u001b[0m\u001b[0;34m,\u001b[0m\u001b[0mitem_id\u001b[0m\u001b[0;34m,\u001b[0m\u001b[0mrating\u001b[0m\u001b[0;34m)\u001b[0m\u001b[0;34m\u001b[0m\u001b[0m\n\u001b[0m\u001b[1;32m     44\u001b[0m                     \u001b[0merror\u001b[0m\u001b[0;34m.\u001b[0m\u001b[0mappend\u001b[0m\u001b[0;34m(\u001b[0m\u001b[0merr\u001b[0m\u001b[0;34m)\u001b[0m\u001b[0;34m\u001b[0m\u001b[0m\n\u001b[1;32m     45\u001b[0m     \u001b[0mmse\u001b[0m \u001b[0;34m=\u001b[0m \u001b[0;34m(\u001b[0m\u001b[0mnp\u001b[0m\u001b[0;34m.\u001b[0m\u001b[0marray\u001b[0m\u001b[0;34m(\u001b[0m\u001b[0merror\u001b[0m\u001b[0;34m)\u001b[0m \u001b[0;34m**\u001b[0m \u001b[0;36m2\u001b[0m\u001b[0;34m)\u001b[0m\u001b[0;34m.\u001b[0m\u001b[0mmean\u001b[0m\u001b[0;34m(\u001b[0m\u001b[0;34m)\u001b[0m\u001b[0;34m\u001b[0m\u001b[0m\n",
      "\u001b[0;32m<ipython-input-66-9ff447f44a79>\u001b[0m in \u001b[0;36mtrain\u001b[0;34m(user_id, item_id, rating, alpha, latent_feature_weight_decay, user_weight_decay, item_weight_decay)\u001b[0m\n\u001b[1;32m     21\u001b[0m     \u001b[0muser_pref_values\u001b[0m \u001b[0;34m=\u001b[0m \u001b[0mlatent_user_preferences\u001b[0m\u001b[0;34m[\u001b[0m\u001b[0muser_id\u001b[0m\u001b[0;34m]\u001b[0m\u001b[0;34m[\u001b[0m\u001b[0;34m:\u001b[0m\u001b[0;34m]\u001b[0m\u001b[0;34m\u001b[0m\u001b[0m\n\u001b[1;32m     22\u001b[0m     \u001b[0mlatent_user_preferences\u001b[0m\u001b[0;34m[\u001b[0m\u001b[0muser_id\u001b[0m\u001b[0;34m]\u001b[0m \u001b[0;34m-=\u001b[0m \u001b[0malpha\u001b[0m \u001b[0;34m*\u001b[0m \u001b[0merr\u001b[0m \u001b[0;34m*\u001b[0m  \u001b[0;34m(\u001b[0m \u001b[0mlatent_item_features\u001b[0m\u001b[0;34m[\u001b[0m\u001b[0mitem_id\u001b[0m\u001b[0;34m]\u001b[0m \u001b[0;34m+\u001b[0m \u001b[0mlatent_feature_weight_decay\u001b[0m\u001b[0;34m*\u001b[0m\u001b[0mlatent_user_preferences\u001b[0m\u001b[0;34m[\u001b[0m\u001b[0muser_id\u001b[0m\u001b[0;34m]\u001b[0m\u001b[0;34m)\u001b[0m\u001b[0;34m\u001b[0m\u001b[0m\n\u001b[0;32m---> 23\u001b[0;31m     \u001b[0mlatent_item_features\u001b[0m\u001b[0;34m[\u001b[0m\u001b[0mitem_id\u001b[0m\u001b[0;34m]\u001b[0m \u001b[0;34m-=\u001b[0m \u001b[0malpha\u001b[0m \u001b[0;34m*\u001b[0m \u001b[0merr\u001b[0m \u001b[0;34m*\u001b[0m \u001b[0;34m(\u001b[0m \u001b[0muser_pref_values\u001b[0m \u001b[0;34m+\u001b[0m \u001b[0mlatent_feature_weight_decay\u001b[0m\u001b[0;34m*\u001b[0m\u001b[0mlatent_item_features\u001b[0m\u001b[0;34m[\u001b[0m\u001b[0mitem_id\u001b[0m\u001b[0;34m]\u001b[0m\u001b[0;34m)\u001b[0m\u001b[0;34m\u001b[0m\u001b[0m\n\u001b[0m\u001b[1;32m     24\u001b[0m \u001b[0;34m\u001b[0m\u001b[0m\n\u001b[1;32m     25\u001b[0m     \u001b[0muser_preferences_weights\u001b[0m\u001b[0;34m[\u001b[0m\u001b[0muser_id\u001b[0m\u001b[0;34m]\u001b[0m \u001b[0;34m-=\u001b[0m\u001b[0malpha\u001b[0m \u001b[0;34m*\u001b[0m \u001b[0merr\u001b[0m \u001b[0;34m*\u001b[0m\u001b[0;34m(\u001b[0m  \u001b[0mlatent_user_preferences\u001b[0m\u001b[0;34m[\u001b[0m\u001b[0muser_id\u001b[0m\u001b[0;34m]\u001b[0m \u001b[0;34m+\u001b[0m \u001b[0muser_weight_decay\u001b[0m\u001b[0;34m*\u001b[0m \u001b[0muser_preferences_weights\u001b[0m\u001b[0;34m[\u001b[0m\u001b[0muser_id\u001b[0m\u001b[0;34m]\u001b[0m\u001b[0;34m)\u001b[0m\u001b[0;34m\u001b[0m\u001b[0m\n",
      "\u001b[0;31mKeyboardInterrupt\u001b[0m: "
     ]
    }
   ],
   "source": [
    "for i in range(0,10): \n",
    "    sgd()"
   ]
  },
  {
   "cell_type": "code",
   "execution_count": null,
   "metadata": {},
   "outputs": [],
   "source": []
  }
 ],
 "metadata": {
  "kernelspec": {
   "display_name": "Python 3",
   "language": "python",
   "name": "python3"
  },
  "language_info": {
   "codemirror_mode": {
    "name": "ipython",
    "version": 3
   },
   "file_extension": ".py",
   "mimetype": "text/x-python",
   "name": "python",
   "nbconvert_exporter": "python",
   "pygments_lexer": "ipython3",
   "version": "3.5.2"
  }
 },
 "nbformat": 4,
 "nbformat_minor": 2
}
