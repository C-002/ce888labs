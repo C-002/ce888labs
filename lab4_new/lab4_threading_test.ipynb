{
 "cells": [
  {
   "cell_type": "code",
   "execution_count": 1,
   "metadata": {},
   "outputs": [],
   "source": [
    "import threading\n",
    "import time\n",
    "import math\n",
    "\n",
    "import pandas as pd\n",
    "import numpy as np\n",
    "from IPython.display import Image\n",
    "np.set_printoptions(precision = 3)"
   ]
  },
  {
   "cell_type": "code",
   "execution_count": 2,
   "metadata": {},
   "outputs": [],
   "source": [
    "data = pd.read_csv(\"jester-data-1.csv\", header=None)"
   ]
  },
  {
   "cell_type": "markdown",
   "metadata": {},
   "source": [
    "math.log10(0.00001)  \n",
    "-5.0"
   ]
  },
  {
   "cell_type": "code",
   "execution_count": 3,
   "metadata": {},
   "outputs": [],
   "source": [
    "#user_ratings = data.values\n",
    "user_ratings = data.values[0:100]"
   ]
  },
  {
   "cell_type": "code",
   "execution_count": 4,
   "metadata": {},
   "outputs": [],
   "source": [
    "n_features = 7\n",
    "latent_user_preferences = np.random.random((user_ratings.shape[0], n_features))\n",
    "latent_item_features = np.random.random((user_ratings.shape[1],n_features))"
   ]
  },
  {
   "cell_type": "code",
   "execution_count": 5,
   "metadata": {},
   "outputs": [
    {
     "name": "stdout",
     "output_type": "stream",
     "text": [
      "user_ratings.shape:            (100, 101)\n",
      "latent_user_preferences.shape: (100, 7)\n",
      "latent_item_features.shape:    (101, 7)\n"
     ]
    }
   ],
   "source": [
    "print('user_ratings.shape:           ',user_ratings.shape)\n",
    "print('latent_user_preferences.shape:',latent_user_preferences.shape)\n",
    "print('latent_item_features.shape:   ',latent_item_features.shape)"
   ]
  },
  {
   "cell_type": "code",
   "execution_count": 6,
   "metadata": {},
   "outputs": [
    {
     "name": "stdout",
     "output_type": "stream",
     "text": [
      "[[99.   99.   99.   ... 99.   99.   99.  ]\n",
      " [99.   99.   -0.29 ... 99.   99.   99.  ]\n",
      " [99.   99.   99.   ... 99.   99.   99.  ]\n",
      " ...\n",
      " [99.   99.   99.   ... 99.   99.   99.  ]\n",
      " [99.   99.   99.   ... 99.   99.   99.  ]\n",
      " [99.   99.   99.   ... 99.   99.   99.  ]] \n",
      " 740 \n",
      " 0.07326732673267326\n"
     ]
    }
   ],
   "source": [
    "user_ratings_vali = np.zeros(user_ratings.shape) + 99.0\n",
    "user_ratings_copy = user_ratings.copy() \n",
    "count = 0\n",
    "for x in range(0,user_ratings.shape[0]):\n",
    "    for y in range(0,user_ratings.shape[1]):\n",
    "        if (user_ratings_copy[x,y]!=99.0):\n",
    "            if (np.random.random() > 0.9):\n",
    "                count += 1\n",
    "                temp = user_ratings_copy[x,y]\n",
    "                user_ratings_copy[x,y] = user_ratings_vali[x,y]\n",
    "                user_ratings_vali[x,y] = temp\n",
    "                #print(temp)\n",
    "print(user_ratings_vali,'\\n', count,'\\n', count/(user_ratings.shape[0]*user_ratings.shape[1]))"
   ]
  },
  {
   "cell_type": "code",
   "execution_count": 7,
   "metadata": {},
   "outputs": [],
   "source": [
    "def predict_rating(user_id,item_id):\n",
    "    \"\"\" Predict a rating given a user_id and an item_id.\n",
    "    \"\"\"\n",
    "    user_preference = latent_user_preferences[user_id]\n",
    "    item_preference = latent_item_features[item_id]\n",
    "    return user_preference.dot(item_preference)\n",
    "\n",
    "def train(user_id, item_id, rating,alpha = 0.0001):\n",
    "    \n",
    "    #print (item_id)\n",
    "    prediction_rating = predict_rating(user_id, item_id)\n",
    "    err =  ( prediction_rating- rating );\n",
    "    #print (err)\n",
    "    user_pref_values = latent_user_preferences[user_id][:]\n",
    "    latent_user_preferences[user_id] -= alpha * err * latent_item_features[item_id]\n",
    "    latent_item_features[item_id] -= alpha * err * user_pref_values\n",
    "    return err\n",
    "    \n",
    "\n",
    "\n",
    "def sgd(iterations = 100000):\n",
    "    \"\"\" Iterate over all users and all items and train for \n",
    "        a certain number of iterations\n",
    "    \"\"\"\n",
    "    err_mse_log = 0\n",
    "    for iteration in range(0,iterations):\n",
    "        error = []\n",
    "        for user_id in range(0,latent_user_preferences.shape[0]):\n",
    "            for item_id in range(0,latent_item_features.shape[0]):\n",
    "                rating = user_ratings_copy[user_id][item_id]\n",
    "                if(rating != 99.0):\n",
    "                    err = train(user_id,item_id,rating)\n",
    "                    error.append(err)\n",
    "                    #print(rating)\n",
    "        mse = (np.array(error) ** 2).mean()\n",
    "        #print(iteration)\n",
    "        if(iteration%1000 == 0 ):\n",
    "            err_mse = mse - err_mse_log\n",
    "            err_mse_log = mse\n",
    "            print (iteration, ':=', mse, err_mse)\n",
    "                    \n",
    "                    "
   ]
  },
  {
   "cell_type": "code",
   "execution_count": 8,
   "metadata": {},
   "outputs": [
    {
     "name": "stdout",
     "output_type": "stream",
     "text": [
      "0 := 100.11951051719248 100.11951051719248\n",
      "0 := 100.65949903301293 100.65949903301293\n",
      "1000 := 11.578249728219305 -89.08124930479363\n",
      "1000 := 11.570344869334486 -88.54916564785799\n",
      "2000 := 11.48636355266864 -0.09188617555066436\n",
      "2000 := 11.482614639842353 -0.0877302294921325\n"
     ]
    }
   ],
   "source": [
    "threads = []\n",
    "for i in range(2):\n",
    "    t = threading.Thread(target=sgd)\n",
    "    threads.append(t)\n",
    "    t.start()"
   ]
  },
  {
   "cell_type": "markdown",
   "metadata": {},
   "source": [
    "kill all"
   ]
  }
 ],
 "metadata": {
  "kernelspec": {
   "display_name": "Python 3",
   "language": "python",
   "name": "python3"
  },
  "language_info": {
   "codemirror_mode": {
    "name": "ipython",
    "version": 3
   },
   "file_extension": ".py",
   "mimetype": "text/x-python",
   "name": "python",
   "nbconvert_exporter": "python",
   "pygments_lexer": "ipython3",
   "version": "3.5.2"
  }
 },
 "nbformat": 4,
 "nbformat_minor": 2
}
