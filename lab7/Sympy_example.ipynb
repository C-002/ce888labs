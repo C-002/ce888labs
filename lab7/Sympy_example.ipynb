{
 "cells": [
  {
   "cell_type": "code",
   "execution_count": 112,
   "metadata": {
    "collapsed": false
   },
   "outputs": [],
   "source": [
    "from sympy import Function, Symbol, latex, init_printing\n",
    "\n",
    "\n"
   ]
  },
  {
   "cell_type": "code",
   "execution_count": 126,
   "metadata": {
    "collapsed": true
   },
   "outputs": [],
   "source": [
    "y0,y1,y2 = symbols('y^(0),y^(1),y^(2)')\n",
    "x0, x1, x2, x = symbols('x^(0), x^(1), x^(2), x')\n",
    "w0,w1 = symbols('w0, w1')\n",
    "n = symbols('n')"
   ]
  },
  {
   "cell_type": "code",
   "execution_count": 127,
   "metadata": {
    "collapsed": false
   },
   "outputs": [],
   "source": [
    "f = (x*w1 + w0)\n"
   ]
  },
  {
   "cell_type": "code",
   "execution_count": 129,
   "metadata": {
    "collapsed": false
   },
   "outputs": [
    {
     "data": {
      "image/png": "[encoded data removed]",
      "text/latex": [
       "$$\\left(w_{0} + w_{1} x^{(0)} - y^{(0)}\\right)^{2}$$"
      ],
      "text/plain": [
       "                     2\n",
       "(w₀ + w₁⋅x⁽⁰⁾ - y⁽⁰⁾) "
      ]
     },
     "execution_count": 129,
     "metadata": {},
     "output_type": "execute_result"
    }
   ],
   "source": [
    "\n",
    "mse = ((f.subs(x, x0) - y0 )**2 + (f.subs(x, x1) - y1 )**2 + (f.subs(x, x2) - y2 )**2) /2\n",
    "mse = ((f.subs(x, x0) - y0 )**2 ) \n",
    "#latex(mse)\n",
    "mse\n",
    "\n"
   ]
  },
  {
   "cell_type": "code",
   "execution_count": 132,
   "metadata": {
    "collapsed": false
   },
   "outputs": [
    {
     "data": {
      "text/plain": [
       "'2 x^{(0)} \\\\left(w_{0} + w_{1} x^{(0)} - y^{(0)}\\\\right)'"
      ]
     },
     "execution_count": 132,
     "metadata": {},
     "output_type": "execute_result"
    }
   ],
   "source": [
    "latex(mse.diff(w1))"
   ]
  },
  {
   "cell_type": "code",
   "execution_count": 135,
   "metadata": {
    "collapsed": false
   },
   "outputs": [
    {
     "data": {
      "text/plain": [
       "'2 w_{0} + 2 w_{1} x^{(0)} - 2 y^{(0)}'"
      ]
     },
     "execution_count": 135,
     "metadata": {},
     "output_type": "execute_result"
    }
   ],
   "source": [
    "latex(mse.diff(w0).simplify())"
   ]
  },
  {
   "cell_type": "code",
   "execution_count": 151,
   "metadata": {
    "collapsed": false
   },
   "outputs": [],
   "source": [
    "expr = ( ((y0 + 0.8*x0) - 1) +  ((y0 - 0.2*x0) + 3))**2"
   ]
  },
  {
   "cell_type": "code",
   "execution_count": 153,
   "metadata": {
    "collapsed": false
   },
   "outputs": [
    {
     "data": {
      "image/png": "[encoded data removed]",
      "text/latex": [
       "$$0.72 x^{(0)} + 2.4 y^{(0)} + 2.4$$"
      ],
      "text/plain": [
       "0.72⋅x⁽⁰⁾ + 2.4⋅y⁽⁰⁾ + 2.4"
      ]
     },
     "execution_count": 153,
     "metadata": {},
     "output_type": "execute_result"
    }
   ],
   "source": [
    "expr.diff(x0)"
   ]
  },
  {
   "cell_type": "code",
   "execution_count": null,
   "metadata": {
    "collapsed": true
   },
   "outputs": [],
   "source": []
  }
 ],
 "metadata": {
  "kernelspec": {
   "display_name": "Python 2",
   "language": "python",
   "name": "python2"
  },
  "language_info": {
   "codemirror_mode": {
    "name": "ipython",
    "version": 2
   },
   "file_extension": ".py",
   "mimetype": "text/x-python",
   "name": "python",
   "nbconvert_exporter": "python",
   "pygments_lexer": "ipython2",
   "version": "2.7.6"
  }
 },
 "nbformat": 4,
 "nbformat_minor": 0
}
