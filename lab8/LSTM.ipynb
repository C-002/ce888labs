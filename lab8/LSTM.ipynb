{
 "cells": [
  {
   "cell_type": "code",
   "execution_count": 1,
   "metadata": {},
   "outputs": [
    {
     "name": "stderr",
     "output_type": "stream",
     "text": [
      "Using TensorFlow backend.\n"
     ]
    }
   ],
   "source": [
    "from __future__ import print_function\n",
    "import numpy as np\n",
    "np.random.seed(1337)\n",
    "\n",
    "from keras.preprocessing import sequence\n",
    "from keras.models import Model\n",
    "from keras.layers import Dense, Activation, Embedding, Flatten, Input, Conv1D, MaxPooling1D, GlobalMaxPooling1D, LSTM\n",
    "from keras.layers.advanced_activations import PReLU\n",
    "from keras.datasets import imdb"
   ]
  },
  {
   "cell_type": "code",
   "execution_count": 2,
   "metadata": {},
   "outputs": [],
   "source": [
    "max_features = 20000\n",
    "maxlen = 80  # cut texts after this number of words (among top max_features most common words)\n",
    "batch_size = 32"
   ]
  },
  {
   "cell_type": "code",
   "execution_count": 3,
   "metadata": {},
   "outputs": [
    {
     "name": "stdout",
     "output_type": "stream",
     "text": [
      "Loading data...\n"
     ]
    },
    {
     "name": "stderr",
     "output_type": "stream",
     "text": [
      "/Users/Alum/Library/Python/3.6/lib/python/site-packages/keras/datasets/imdb.py:49: UserWarning: The `nb_words` argument in `load_data` has been renamed `num_words`.\n",
      "  warnings.warn('The `nb_words` argument in `load_data` '\n"
     ]
    },
    {
     "name": "stdout",
     "output_type": "stream",
     "text": [
      "25000 train sequences\n",
      "25000 test sequences\n"
     ]
    }
   ],
   "source": [
    "print('Loading data...')\n",
    "(X_train, y_train), (X_test, y_test) = imdb.load_data(nb_words=max_features)\n",
    "print(len(X_train), 'train sequences')\n",
    "print(len(X_test), 'test sequences')"
   ]
  },
  {
   "cell_type": "code",
   "execution_count": 4,
   "metadata": {},
   "outputs": [
    {
     "name": "stdout",
     "output_type": "stream",
     "text": [
      "Pad sequences (samples x time)\n",
      "X_train shape: (25000, 80)\n",
      "X_test shape: (25000, 80)\n"
     ]
    }
   ],
   "source": [
    "print('Pad sequences (samples x time)')\n",
    "X_train = sequence.pad_sequences(X_train, maxlen=maxlen)\n",
    "X_test = sequence.pad_sequences(X_test, maxlen=maxlen)\n",
    "print('X_train shape:', X_train.shape)\n",
    "print('X_test shape:', X_test.shape)"
   ]
  },
  {
   "cell_type": "code",
   "execution_count": 6,
   "metadata": {},
   "outputs": [
    {
     "name": "stdout",
     "output_type": "stream",
     "text": [
      "Build model...\n"
     ]
    },
    {
     "name": "stderr",
     "output_type": "stream",
     "text": [
      "/usr/local/lib/python3.6/site-packages/ipykernel_launcher.py:4: UserWarning: The `dropout` argument is no longer support in `Embedding`. You can apply a `keras.layers.SpatialDropout1D` layer right after the `Embedding` layer to get the same behavior.\n",
      "  after removing the cwd from sys.path.\n",
      "/usr/local/lib/python3.6/site-packages/ipykernel_launcher.py:16: UserWarning: Update your `Model` call to the Keras 2 API: `Model(inputs=Tensor(\"in..., outputs=Tensor(\"ac...)`\n",
      "  app.launch_new_instance()\n"
     ]
    }
   ],
   "source": [
    "print('Build model...')\n",
    "inputs = Input(shape=(maxlen,))\n",
    "x = inputs\n",
    "x = Embedding(max_features, 128, dropout=0.2)(x)\n",
    "\n",
    "x = LSTM(32)(x)\n",
    "\n",
    "x = Dense(1)(x)\n",
    "predictions = Activation(\"sigmoid\")(x)\n",
    "\n",
    "\n",
    "model = Model(input=inputs, output=predictions)\n",
    "model.compile(loss='binary_crossentropy',\n",
    "              optimizer='adam',\n",
    "              metrics=['accuracy'])"
   ]
  },
  {
   "cell_type": "code",
   "execution_count": 7,
   "metadata": {
    "scrolled": true
   },
   "outputs": [
    {
     "name": "stdout",
     "output_type": "stream",
     "text": [
      "_________________________________________________________________\n",
      "Layer (type)                 Output Shape              Param #   \n",
      "=================================================================\n",
      "input_2 (InputLayer)         (None, 80)                0         \n",
      "_________________________________________________________________\n",
      "embedding_2 (Embedding)      (None, 80, 128)           2560000   \n",
      "_________________________________________________________________\n",
      "lstm_2 (LSTM)                (None, 32)                20608     \n",
      "_________________________________________________________________\n",
      "dense_1 (Dense)              (None, 1)                 33        \n",
      "_________________________________________________________________\n",
      "activation_1 (Activation)    (None, 1)                 0         \n",
      "=================================================================\n",
      "Total params: 2,580,641\n",
      "Trainable params: 2,580,641\n",
      "Non-trainable params: 0\n",
      "_________________________________________________________________\n"
     ]
    }
   ],
   "source": [
    "model.summary()"
   ]
  },
  {
   "cell_type": "code",
   "execution_count": 8,
   "metadata": {
    "scrolled": true
   },
   "outputs": [
    {
     "name": "stdout",
     "output_type": "stream",
     "text": [
      "Train...\n"
     ]
    },
    {
     "name": "stderr",
     "output_type": "stream",
     "text": [
      "/usr/local/lib/python3.6/site-packages/ipykernel_launcher.py:3: UserWarning: The `nb_epoch` argument in `fit` has been renamed `epochs`.\n",
      "  This is separate from the ipykernel package so we can avoid doing imports until\n"
     ]
    },
    {
     "name": "stdout",
     "output_type": "stream",
     "text": [
      "Train on 25000 samples, validate on 25000 samples\n",
      "Epoch 1/15\n",
      "25000/25000 [==============================] - 117s 5ms/step - loss: 0.4254 - acc: 0.7959 - val_loss: 0.3530 - val_acc: 0.8452\n",
      "Epoch 2/15\n",
      "25000/25000 [==============================] - 113s 5ms/step - loss: 0.2356 - acc: 0.9042 - val_loss: 0.3692 - val_acc: 0.8379\n",
      "Epoch 3/15\n",
      "25000/25000 [==============================] - 124s 5ms/step - loss: 0.1392 - acc: 0.9481 - val_loss: 0.4561 - val_acc: 0.8335\n",
      "Epoch 4/15\n",
      "25000/25000 [==============================] - 126s 5ms/step - loss: 0.0883 - acc: 0.9677 - val_loss: 0.5783 - val_acc: 0.8256\n",
      "Epoch 5/15\n",
      "25000/25000 [==============================] - 126s 5ms/step - loss: 0.0571 - acc: 0.9801 - val_loss: 0.6590 - val_acc: 0.8260\n",
      "Epoch 6/15\n",
      "25000/25000 [==============================] - 121s 5ms/step - loss: 0.0452 - acc: 0.9849 - val_loss: 0.6931 - val_acc: 0.8244\n",
      "Epoch 7/15\n",
      "25000/25000 [==============================] - 119s 5ms/step - loss: 0.0287 - acc: 0.9908 - val_loss: 0.9356 - val_acc: 0.8202\n",
      "Epoch 8/15\n",
      "25000/25000 [==============================] - 155s 6ms/step - loss: 0.0236 - acc: 0.9923 - val_loss: 0.9138 - val_acc: 0.8228\n",
      "Epoch 9/15\n",
      "25000/25000 [==============================] - 159s 6ms/step - loss: 0.0177 - acc: 0.9950 - val_loss: 0.8615 - val_acc: 0.8137\n",
      "Epoch 10/15\n",
      "25000/25000 [==============================] - 174s 7ms/step - loss: 0.0144 - acc: 0.9958 - val_loss: 0.9241 - val_acc: 0.8197\n",
      "Epoch 11/15\n",
      "25000/25000 [==============================] - 161s 6ms/step - loss: 0.0133 - acc: 0.9964 - val_loss: 1.0698 - val_acc: 0.8234\n",
      "Epoch 12/15\n",
      "25000/25000 [==============================] - 167s 7ms/step - loss: 0.0092 - acc: 0.9974 - val_loss: 0.9778 - val_acc: 0.8227\n",
      "Epoch 13/15\n",
      "25000/25000 [==============================] - 179s 7ms/step - loss: 0.0093 - acc: 0.9975 - val_loss: 1.0266 - val_acc: 0.8183\n",
      "Epoch 14/15\n",
      "25000/25000 [==============================] - 214s 9ms/step - loss: 0.0083 - acc: 0.9980 - val_loss: 1.0020 - val_acc: 0.8116\n",
      "Epoch 15/15\n",
      "25000/25000 [==============================] - 187s 7ms/step - loss: 0.0083 - acc: 0.9974 - val_loss: 1.0382 - val_acc: 0.8201\n",
      "25000/25000 [==============================] - 24s 943us/step\n",
      "Test score: 1.0382399596583842\n",
      "Test accuracy: 0.82012\n"
     ]
    }
   ],
   "source": [
    "print('Train...')\n",
    "model.fit(X_train, y_train, batch_size=batch_size, nb_epoch=15,\n",
    "          validation_data=(X_test, y_test))\n",
    "score, acc = model.evaluate(X_test, y_test, batch_size=batch_size)\n",
    "print('Test score:', score)\n",
    "print('Test accuracy:', acc)"
   ]
  },
  {
   "cell_type": "code",
   "execution_count": null,
   "metadata": {},
   "outputs": [],
   "source": []
  }
 ],
 "metadata": {
  "kernelspec": {
   "display_name": "Python 3",
   "language": "python",
   "name": "python3"
  },
  "language_info": {
   "codemirror_mode": {
    "name": "ipython",
    "version": 3
   },
   "file_extension": ".py",
   "mimetype": "text/x-python",
   "name": "python",
   "nbconvert_exporter": "python",
   "pygments_lexer": "ipython3",
   "version": "3.6.4"
  }
 },
 "nbformat": 4,
 "nbformat_minor": 2
}
