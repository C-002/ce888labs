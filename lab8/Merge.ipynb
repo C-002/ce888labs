{
 "cells": [
  {
   "cell_type": "code",
   "execution_count": 1,
   "metadata": {},
   "outputs": [
    {
     "name": "stderr",
     "output_type": "stream",
     "text": [
      "Using TensorFlow backend.\n"
     ]
    }
   ],
   "source": [
    "from __future__ import print_function\n",
    "import numpy as np\n",
    "np.random.seed(1337)\n",
    "\n",
    "from keras.preprocessing import sequence\n",
    "from keras.models import Model\n",
    "from keras.layers import Dense, Activation, Embedding, Flatten, Input, Conv1D, MaxPooling1D, GlobalMaxPooling1D, LSTM, Dot\n",
    "from keras.layers.advanced_activations import PReLU\n",
    "from keras.datasets import imdb"
   ]
  },
  {
   "cell_type": "code",
   "execution_count": 2,
   "metadata": {},
   "outputs": [],
   "source": [
    "max_features = 20000\n",
    "maxlen = 80  # cut texts after this number of words (among top max_features most common words)\n",
    "batch_size = 32"
   ]
  },
  {
   "cell_type": "code",
   "execution_count": 3,
   "metadata": {},
   "outputs": [
    {
     "name": "stdout",
     "output_type": "stream",
     "text": [
      "Loading data...\n"
     ]
    },
    {
     "name": "stderr",
     "output_type": "stream",
     "text": [
      "/Users/Alum/Library/Python/3.6/lib/python/site-packages/keras/datasets/imdb.py:49: UserWarning: The `nb_words` argument in `load_data` has been renamed `num_words`.\n",
      "  warnings.warn('The `nb_words` argument in `load_data` '\n"
     ]
    },
    {
     "name": "stdout",
     "output_type": "stream",
     "text": [
      "25000 train sequences\n",
      "25000 test sequences\n"
     ]
    }
   ],
   "source": [
    "print('Loading data...')\n",
    "(X_train, y_train), (X_test, y_test) = imdb.load_data(nb_words=max_features)\n",
    "print(len(X_train), 'train sequences')\n",
    "print(len(X_test), 'test sequences')"
   ]
  },
  {
   "cell_type": "code",
   "execution_count": 4,
   "metadata": {},
   "outputs": [
    {
     "name": "stdout",
     "output_type": "stream",
     "text": [
      "Pad sequences (samples x time)\n",
      "X_train shape: (25000, 80)\n",
      "X_test shape: (25000, 80)\n"
     ]
    }
   ],
   "source": [
    "print('Pad sequences (samples x time)')\n",
    "X_train = sequence.pad_sequences(X_train, maxlen=maxlen)\n",
    "X_test = sequence.pad_sequences(X_test, maxlen=maxlen)\n",
    "print('X_train shape:', X_train.shape)\n",
    "print('X_test shape:', X_test.shape)"
   ]
  },
  {
   "cell_type": "code",
   "execution_count": 10,
   "metadata": {},
   "outputs": [
    {
     "name": "stdout",
     "output_type": "stream",
     "text": [
      "Build model...\n"
     ]
    },
    {
     "name": "stderr",
     "output_type": "stream",
     "text": [
      "/usr/local/lib/python3.6/site-packages/ipykernel_launcher.py:4: UserWarning: The `dropout` argument is no longer support in `Embedding`. You can apply a `keras.layers.SpatialDropout1D` layer right after the `Embedding` layer to get the same behavior.\n",
      "  after removing the cwd from sys.path.\n",
      "/usr/local/lib/python3.6/site-packages/ipykernel_launcher.py:16: UserWarning: Update your `Model` call to the Keras 2 API: `Model(inputs=Tensor(\"in..., outputs=Tensor(\"ac...)`\n",
      "  app.launch_new_instance()\n"
     ]
    }
   ],
   "source": [
    "print('Build model...')\n",
    "inputs = Input(shape=(maxlen,))\n",
    "x = inputs\n",
    "x = Embedding(max_features, 128, dropout=0.2)(x)\n",
    "\n",
    "x1 = LSTM(32)(x)\n",
    "\n",
    "x2 = Conv1D(filters=32, kernel_size=3, padding=\"same\")(x)\n",
    "x2 = GlobalMaxPooling1D()(x2)\n",
    "\n",
    "x = Dot(axes=-1)([x1, x2])\n",
    "x = Dense(1)(x)\n",
    "predictions = Activation(\"sigmoid\")(x)\n",
    "\n",
    "\n",
    "model = Model(input=inputs, output=predictions)\n",
    "model.compile(loss='binary_crossentropy',\n",
    "              optimizer='adam',\n",
    "              metrics=['accuracy'])"
   ]
  },
  {
   "cell_type": "code",
   "execution_count": 11,
   "metadata": {},
   "outputs": [
    {
     "name": "stdout",
     "output_type": "stream",
     "text": [
      "__________________________________________________________________________________________________\n",
      "Layer (type)                    Output Shape         Param #     Connected to                     \n",
      "==================================================================================================\n",
      "input_4 (InputLayer)            (None, 80)           0                                            \n",
      "__________________________________________________________________________________________________\n",
      "embedding_4 (Embedding)         (None, 80, 128)      2560000     input_4[0][0]                    \n",
      "__________________________________________________________________________________________________\n",
      "conv1d_4 (Conv1D)               (None, 80, 32)       12320       embedding_4[0][0]                \n",
      "__________________________________________________________________________________________________\n",
      "lstm_4 (LSTM)                   (None, 32)           20608       embedding_4[0][0]                \n",
      "__________________________________________________________________________________________________\n",
      "global_max_pooling1d_4 (GlobalM (None, 32)           0           conv1d_4[0][0]                   \n",
      "__________________________________________________________________________________________________\n",
      "dot_3 (Dot)                     (None, 1)            0           lstm_4[0][0]                     \n",
      "                                                                 global_max_pooling1d_4[0][0]     \n",
      "__________________________________________________________________________________________________\n",
      "dense_3 (Dense)                 (None, 1)            2           dot_3[0][0]                      \n",
      "__________________________________________________________________________________________________\n",
      "activation_2 (Activation)       (None, 1)            0           dense_3[0][0]                    \n",
      "==================================================================================================\n",
      "Total params: 2,592,930\n",
      "Trainable params: 2,592,930\n",
      "Non-trainable params: 0\n",
      "__________________________________________________________________________________________________\n"
     ]
    }
   ],
   "source": [
    "model.summary()"
   ]
  },
  {
   "cell_type": "code",
   "execution_count": 12,
   "metadata": {},
   "outputs": [
    {
     "name": "stdout",
     "output_type": "stream",
     "text": [
      "Train...\n"
     ]
    },
    {
     "name": "stderr",
     "output_type": "stream",
     "text": [
      "/usr/local/lib/python3.6/site-packages/ipykernel_launcher.py:3: UserWarning: The `nb_epoch` argument in `fit` has been renamed `epochs`.\n",
      "  This is separate from the ipykernel package so we can avoid doing imports until\n"
     ]
    },
    {
     "name": "stdout",
     "output_type": "stream",
     "text": [
      "Train on 25000 samples, validate on 25000 samples\n",
      "Epoch 1/15\n",
      "25000/25000 [==============================] - 176s 7ms/step - loss: 0.4164 - acc: 0.8006 - val_loss: 0.3455 - val_acc: 0.8455\n",
      "Epoch 2/15\n",
      "25000/25000 [==============================] - 158s 6ms/step - loss: 0.2310 - acc: 0.9086 - val_loss: 0.4037 - val_acc: 0.8402\n",
      "Epoch 3/15\n",
      "25000/25000 [==============================] - 162s 6ms/step - loss: 0.1292 - acc: 0.9504 - val_loss: 0.4483 - val_acc: 0.8283\n",
      "Epoch 4/15\n",
      "25000/25000 [==============================] - 168s 7ms/step - loss: 0.0703 - acc: 0.9741 - val_loss: 0.6782 - val_acc: 0.8191\n",
      "Epoch 5/15\n",
      "25000/25000 [==============================] - 205s 8ms/step - loss: 0.0459 - acc: 0.9841 - val_loss: 0.7660 - val_acc: 0.8242\n",
      "Epoch 6/15\n",
      "25000/25000 [==============================] - 196s 8ms/step - loss: 0.0334 - acc: 0.9888 - val_loss: 0.8746 - val_acc: 0.8199\n",
      "Epoch 7/15\n",
      "25000/25000 [==============================] - 152s 6ms/step - loss: 0.0230 - acc: 0.9926 - val_loss: 0.9791 - val_acc: 0.8144\n",
      "Epoch 8/15\n",
      "25000/25000 [==============================] - 124s 5ms/step - loss: 0.0177 - acc: 0.9939 - val_loss: 1.0504 - val_acc: 0.8176\n",
      "Epoch 9/15\n",
      "25000/25000 [==============================] - 124s 5ms/step - loss: 0.0158 - acc: 0.9957 - val_loss: 1.1377 - val_acc: 0.8132\n",
      "Epoch 10/15\n",
      "25000/25000 [==============================] - 130s 5ms/step - loss: 0.0125 - acc: 0.9963 - val_loss: 1.2113 - val_acc: 0.8143\n",
      "Epoch 11/15\n",
      "25000/25000 [==============================] - 168s 7ms/step - loss: 0.0085 - acc: 0.9975 - val_loss: 1.2279 - val_acc: 0.8145\n",
      "Epoch 12/15\n",
      "25000/25000 [==============================] - 238s 10ms/step - loss: 0.0135 - acc: 0.9962 - val_loss: 1.0741 - val_acc: 0.8106\n",
      "Epoch 13/15\n",
      "25000/25000 [==============================] - 241s 10ms/step - loss: 0.0065 - acc: 0.9980 - val_loss: 1.1760 - val_acc: 0.8128\n",
      "Epoch 14/15\n",
      "25000/25000 [==============================] - 238s 10ms/step - loss: 0.0020 - acc: 0.9995 - val_loss: 1.3068 - val_acc: 0.8133\n",
      "Epoch 15/15\n",
      "25000/25000 [==============================] - 245s 10ms/step - loss: 0.0117 - acc: 0.9964 - val_loss: 1.1929 - val_acc: 0.8106\n",
      "25000/25000 [==============================] - 28s 1ms/step\n",
      "Test score: 1.192910744406581\n",
      "Test accuracy: 0.81056\n"
     ]
    }
   ],
   "source": [
    "print('Train...')\n",
    "model.fit(X_train, y_train, batch_size=batch_size, nb_epoch=15,\n",
    "          validation_data=(X_test, y_test))\n",
    "score, acc = model.evaluate(X_test, y_test, batch_size=batch_size)\n",
    "print('Test score:', score)\n",
    "print('Test accuracy:', acc)"
   ]
  },
  {
   "cell_type": "code",
   "execution_count": null,
   "metadata": {},
   "outputs": [],
   "source": []
  }
 ],
 "metadata": {
  "kernelspec": {
   "display_name": "Python 3",
   "language": "python",
   "name": "python3"
  },
  "language_info": {
   "codemirror_mode": {
    "name": "ipython",
    "version": 3
   },
   "file_extension": ".py",
   "mimetype": "text/x-python",
   "name": "python",
   "nbconvert_exporter": "python",
   "pygments_lexer": "ipython3",
   "version": "3.6.4"
  }
 },
 "nbformat": 4,
 "nbformat_minor": 2
}
