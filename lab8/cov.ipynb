{
 "cells": [
  {
   "cell_type": "code",
   "execution_count": 37,
   "metadata": {},
   "outputs": [],
   "source": [
    "from __future__ import print_function\n",
    "import numpy as np\n",
    "np.random.seed(1337)\n",
    "\n",
    "from keras.preprocessing import sequence\n",
    "from keras.models import Model\n",
    "from keras.layers import Dense, Activation, Embedding, Flatten, Input, Conv1D, MaxPooling1D, GlobalMaxPooling1D\n",
    "from keras.layers.advanced_activations import PReLU\n",
    "from keras.datasets import imdb"
   ]
  },
  {
   "cell_type": "code",
   "execution_count": 9,
   "metadata": {},
   "outputs": [],
   "source": [
    "max_features = 20000\n",
    "maxlen = 80  # cut texts after this number of words (among top max_features most common words)\n",
    "batch_size = 32"
   ]
  },
  {
   "cell_type": "code",
   "execution_count": 84,
   "metadata": {},
   "outputs": [
    {
     "name": "stdout",
     "output_type": "stream",
     "text": [
      "Loading data...\n"
     ]
    },
    {
     "name": "stderr",
     "output_type": "stream",
     "text": [
      "/Users/Alum/Library/Python/3.6/lib/python/site-packages/keras/datasets/imdb.py:49: UserWarning: The `nb_words` argument in `load_data` has been renamed `num_words`.\n",
      "  warnings.warn('The `nb_words` argument in `load_data` '\n"
     ]
    },
    {
     "name": "stdout",
     "output_type": "stream",
     "text": [
      "25000 train sequences\n",
      "25000 test sequences\n"
     ]
    }
   ],
   "source": [
    "print('Loading data...')\n",
    "(X_train, y_train), (X_test, y_test) = imdb.load_data(nb_words=max_features)\n",
    "print(len(X_train), 'train sequences')\n",
    "print(len(X_test), 'test sequences')"
   ]
  },
  {
   "cell_type": "code",
   "execution_count": 85,
   "metadata": {},
   "outputs": [
    {
     "name": "stdout",
     "output_type": "stream",
     "text": [
      "Pad sequences (samples x time)\n",
      "X_train shape: (25000, 80)\n",
      "X_test shape: (25000, 80)\n"
     ]
    }
   ],
   "source": [
    "print('Pad sequences (samples x time)')\n",
    "X_train = sequence.pad_sequences(X_train, maxlen=maxlen)\n",
    "X_test = sequence.pad_sequences(X_test, maxlen=maxlen)\n",
    "print('X_train shape:', X_train.shape)\n",
    "print('X_test shape:', X_test.shape)"
   ]
  },
  {
   "cell_type": "code",
   "execution_count": 86,
   "metadata": {},
   "outputs": [
    {
     "data": {
      "text/plain": [
       "array([[   15,   256,     4, ...,    19,   178,    32],\n",
       "       [  125,    68,     2, ...,    16,   145,    95],\n",
       "       [  645,   662,     8, ...,     7,   129,   113],\n",
       "       ...,\n",
       "       [  529,   443, 17793, ...,     4,  3586,     2],\n",
       "       [  286,  1814,    23, ...,    12,     9,    23],\n",
       "       [   97,    90,    35, ...,   204,   131,     9]], dtype=int32)"
      ]
     },
     "execution_count": 86,
     "metadata": {},
     "output_type": "execute_result"
    }
   ],
   "source": [
    "X_train"
   ]
  },
  {
   "cell_type": "code",
   "execution_count": 88,
   "metadata": {},
   "outputs": [
    {
     "name": "stdout",
     "output_type": "stream",
     "text": [
      "Build model...\n"
     ]
    },
    {
     "name": "stderr",
     "output_type": "stream",
     "text": [
      "/usr/local/lib/python3.6/site-packages/ipykernel_launcher.py:4: UserWarning: The `dropout` argument is no longer support in `Embedding`. You can apply a `keras.layers.SpatialDropout1D` layer right after the `Embedding` layer to get the same behavior.\n",
      "  after removing the cwd from sys.path.\n",
      "/usr/local/lib/python3.6/site-packages/ipykernel_launcher.py:16: UserWarning: Update your `Model` call to the Keras 2 API: `Model(inputs=Tensor(\"in..., outputs=Tensor(\"ac...)`\n",
      "  app.launch_new_instance()\n"
     ]
    }
   ],
   "source": [
    "print('Build model...')\n",
    "inputs = Input(shape=(maxlen,))\n",
    "x = inputs\n",
    "x = Embedding(max_features, 128, dropout=0.2)(x)\n",
    "\n",
    "\n",
    "#x = Dense(64, activation = \"relu\")(x)\n",
    "\n",
    "x = GlobalMaxPooling1D()(x)\n",
    "#x = Flatten()(x)\n",
    "#x = Dense(64)(x)\n",
    "x = Dense(1)(x)\n",
    "predictions = Activation(\"sigmoid\")(x)\n",
    "\n",
    "\n",
    "model = Model(input=inputs, output=predictions)\n",
    "model.compile(loss='binary_crossentropy',\n",
    "              optimizer='adam',\n",
    "              metrics=['accuracy'])"
   ]
  },
  {
   "cell_type": "code",
   "execution_count": 89,
   "metadata": {},
   "outputs": [
    {
     "name": "stdout",
     "output_type": "stream",
     "text": [
      "_________________________________________________________________\n",
      "Layer (type)                 Output Shape              Param #   \n",
      "=================================================================\n",
      "input_32 (InputLayer)        (None, 80)                0         \n",
      "_________________________________________________________________\n",
      "embedding_7 (Embedding)      (None, 80, 128)           2560000   \n",
      "_________________________________________________________________\n",
      "conv1d_28 (Conv1D)           (None, 80, 32)            12320     \n",
      "_________________________________________________________________\n",
      "global_max_pooling1d_14 (Glo (None, 32)                0         \n",
      "_________________________________________________________________\n",
      "dense_45 (Dense)             (None, 1)                 33        \n",
      "_________________________________________________________________\n",
      "activation_23 (Activation)   (None, 1)                 0         \n",
      "=================================================================\n",
      "Total params: 2,572,353\n",
      "Trainable params: 2,572,353\n",
      "Non-trainable params: 0\n",
      "_________________________________________________________________\n"
     ]
    }
   ],
   "source": [
    "model.summary()"
   ]
  },
  {
   "cell_type": "code",
   "execution_count": 90,
   "metadata": {},
   "outputs": [
    {
     "name": "stdout",
     "output_type": "stream",
     "text": [
      "Train...\n"
     ]
    },
    {
     "name": "stderr",
     "output_type": "stream",
     "text": [
      "/usr/local/lib/python3.6/site-packages/ipykernel_launcher.py:3: UserWarning: The `nb_epoch` argument in `fit` has been renamed `epochs`.\n",
      "  This is separate from the ipykernel package so we can avoid doing imports until\n"
     ]
    },
    {
     "name": "stdout",
     "output_type": "stream",
     "text": [
      "Train on 25000 samples, validate on 25000 samples\n",
      "Epoch 1/15\n",
      "25000/25000 [==============================] - 54s 2ms/step - loss: 0.4713 - acc: 0.7780 - val_loss: 0.3689 - val_acc: 0.8331\n",
      "Epoch 2/15\n",
      "25000/25000 [==============================] - 53s 2ms/step - loss: 0.2667 - acc: 0.8915 - val_loss: 0.3435 - val_acc: 0.8494\n",
      "Epoch 3/15\n",
      "25000/25000 [==============================] - 55s 2ms/step - loss: 0.1303 - acc: 0.9568 - val_loss: 0.3739 - val_acc: 0.8470\n",
      "Epoch 4/15\n",
      "25000/25000 [==============================] - 64s 3ms/step - loss: 0.0483 - acc: 0.9888 - val_loss: 0.4267 - val_acc: 0.8435\n",
      "Epoch 5/15\n",
      "25000/25000 [==============================] - 54s 2ms/step - loss: 0.0152 - acc: 0.9986 - val_loss: 0.4836 - val_acc: 0.8418\n",
      "Epoch 6/15\n",
      "25000/25000 [==============================] - 60s 2ms/step - loss: 0.0048 - acc: 1.0000 - val_loss: 0.5310 - val_acc: 0.8419\n",
      "Epoch 7/15\n",
      "25000/25000 [==============================] - 56s 2ms/step - loss: 0.0019 - acc: 1.0000 - val_loss: 0.5705 - val_acc: 0.8403\n",
      "Epoch 8/15\n",
      "25000/25000 [==============================] - 56s 2ms/step - loss: 9.9302e-04 - acc: 1.0000 - val_loss: 0.6084 - val_acc: 0.8402\n",
      "Epoch 9/15\n",
      "25000/25000 [==============================] - 53s 2ms/step - loss: 5.5083e-04 - acc: 1.0000 - val_loss: 0.6422 - val_acc: 0.8400\n",
      "Epoch 10/15\n",
      "25000/25000 [==============================] - 54s 2ms/step - loss: 3.3005e-04 - acc: 1.0000 - val_loss: 0.6777 - val_acc: 0.8397\n",
      "Epoch 11/15\n",
      "25000/25000 [==============================] - 59s 2ms/step - loss: 2.0320e-04 - acc: 1.0000 - val_loss: 0.7110 - val_acc: 0.8394\n",
      "Epoch 12/15\n",
      "25000/25000 [==============================] - 58s 2ms/step - loss: 1.2549e-04 - acc: 1.0000 - val_loss: 0.7436 - val_acc: 0.8389\n",
      "Epoch 13/15\n",
      "25000/25000 [==============================] - 58s 2ms/step - loss: 7.8461e-05 - acc: 1.0000 - val_loss: 0.7755 - val_acc: 0.8386\n",
      "Epoch 14/15\n",
      "25000/25000 [==============================] - 62s 2ms/step - loss: 4.9034e-05 - acc: 1.0000 - val_loss: 0.8078 - val_acc: 0.8385\n",
      "Epoch 15/15\n",
      "25000/25000 [==============================] - 59s 2ms/step - loss: 3.0842e-05 - acc: 1.0000 - val_loss: 0.8385 - val_acc: 0.8377\n",
      "25000/25000 [==============================] - 5s 188us/step\n",
      "Test score: 0.8385325213527679\n",
      "Test accuracy: 0.83772\n"
     ]
    }
   ],
   "source": [
    "print('Train...')\n",
    "model.fit(X_train, y_train, batch_size=batch_size, nb_epoch=15,\n",
    "          validation_data=(X_test, y_test))\n",
    "score, acc = model.evaluate(X_test, y_test, batch_size=batch_size)\n",
    "print('Test score:', score)\n",
    "print('Test accuracy:', acc)"
   ]
  },
  {
   "cell_type": "code",
   "execution_count": null,
   "metadata": {},
   "outputs": [],
   "source": []
  }
 ],
 "metadata": {
  "kernelspec": {
   "display_name": "Python 3",
   "language": "python",
   "name": "python3"
  },
  "language_info": {
   "codemirror_mode": {
    "name": "ipython",
    "version": 3
   },
   "file_extension": ".py",
   "mimetype": "text/x-python",
   "name": "python",
   "nbconvert_exporter": "python",
   "pygments_lexer": "ipython3",
   "version": "3.6.4"
  }
 },
 "nbformat": 4,
 "nbformat_minor": 2
}
