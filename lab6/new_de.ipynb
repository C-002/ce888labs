{
 "cells": [
  {
   "cell_type": "code",
   "execution_count": 1,
   "metadata": {},
   "outputs": [],
   "source": [
    "import pandas\n",
    "import numpy as np\n",
    "import pandas as pd\n",
    "\n",
    "#from __future__ import print_function\n",
    "\n",
    "from sklearn.datasets import make_blobs\n",
    "from sklearn.cluster import KMeans\n",
    "from sklearn.metrics import silhouette_score\n",
    "\n",
    "\n",
    "import matplotlib.pyplot as plt\n",
    "import matplotlib.cm as cm\n",
    "\n",
    "%matplotlib inline  \n",
    "import seaborn as sns\n"
   ]
  },
  {
   "cell_type": "code",
   "execution_count": 7,
   "metadata": {},
   "outputs": [
    {
     "name": "stdout",
     "output_type": "stream",
     "text": [
      "2455286\n"
     ]
    }
   ],
   "source": [
    "\n",
    "# http://stackoverflow.com/questions/22258491/read-a-small-random-sample-from-a-big-csv-file-into-a-python-data-frame\n",
    "\n",
    "\n",
    "n = 2458286 # total populatoin (or number of rows in file) \n",
    "s = 3000 #desired sample size\n",
    "filename = \"~/ce888labs/lab6/hUSCensus1990raw50K.csv.bz2\"\n",
    "skip = sorted(np.random.choice(n, n-s, replace=False) + 1)\n",
    "print (len(skip))\n",
    "df = pandas.read_csv(filename,compression = \"bz2\", header=0, sep='\\t', skiprows=skip)"
   ]
  },
  {
   "cell_type": "code",
   "execution_count": 8,
   "metadata": {},
   "outputs": [
    {
     "data": {
      "text/html": [
       "<div>\n",
       "<style scoped>\n",
       "    .dataframe tbody tr th:only-of-type {\n",
       "        vertical-align: middle;\n",
       "    }\n",
       "\n",
       "    .dataframe tbody tr th {\n",
       "        vertical-align: top;\n",
       "    }\n",
       "\n",
       "    .dataframe thead th {\n",
       "        text-align: right;\n",
       "    }\n",
       "</style>\n",
       "<table border=\"1\" class=\"dataframe\">\n",
       "  <thead>\n",
       "    <tr style=\"text-align: right;\">\n",
       "      <th></th>\n",
       "      <th>,AAGE,AANCSTR1,AANCSTR2,AAUGMENT,ABIRTHPL,ACITIZEN,ACLASS,ADEPART,ADISABL1,ADISABL2,AENGLISH,AFERTIL,AGE,AHISPAN,AHOUR89,AHOURS,AIMMIGR,AINCOME1,AINCOME2,AINCOME3,AINCOME4,AINCOME5,AINCOME6,AINCOME7,AINCOME8,AINDUSTR,ALABOR,ALANG1,ALANG2,ALSTWRK,AMARITAL,AMEANS,AMIGSTAT,AMOBLLIM,AMOBLTY,ANCSTRY1,ANCSTRY2,AOCCUP,APERCARE,APOWST,ARACE,ARELAT1,ARIDERS,ASCHOOL,ASERVPER,ASEX,ATRAVTME,AVAIL,AVETS1,AWKS89,AWORK89,AYEARSCH,AYRSSERV,CITIZEN,CLASS,DEPART,DISABL1,DISABL2,ENGLISH,FEB55,FERTIL,HISPANIC,HOUR89,HOURS,IMMIGR,INCOME1,INCOME2,INCOME3,INCOME4,INCOME5,INCOME6,INCOME7,INCOME8,INDUSTRY,KOREAN,LANG1,LANG2,LOOKING,MARITAL,MAY75880,MEANS,MIGPUMA,MIGSTATE,MILITARY,MOBILITY,MOBILLIM,OCCUP,OTHRSERV,PERSCARE,POB,POVERTY,POWPUMA,POWSTATE,PWGT1,RACE,RAGECHLD,REARNING,RECTYPE,RELAT1,RELAT2,REMPLPAR,RIDERS,RLABOR,ROWNCHLD,RPINCOME,RPOB,RRELCHLD,RSPOUSE,RVETSERV,SCHOOL,SEPT80,SERIALNO,SEX,SUBFAM1,SUBFAM2,TMPABSNT,TRAVTIME,VIETNAM,WEEK89,WORK89,WORKLWK,WWII,YEARSCH,YEARWRK,YRSSERV</th>\n",
       "    </tr>\n",
       "  </thead>\n",
       "  <tbody>\n",
       "    <tr>\n",
       "      <th>0</th>\n",
       "      <td>246,0,0,0,0,0,0,0,0,0,0,0,0,25,0,0,0,0,1,1,1,2...</td>\n",
       "    </tr>\n",
       "    <tr>\n",
       "      <th>1</th>\n",
       "      <td>1009,0,0,0,0,0,0,0,0,0,0,0,0,36,0,0,0,0,0,0,0,...</td>\n",
       "    </tr>\n",
       "    <tr>\n",
       "      <th>2</th>\n",
       "      <td>2384,0,0,0,0,0,0,0,0,0,0,0,0,35,0,0,0,0,0,0,0,...</td>\n",
       "    </tr>\n",
       "    <tr>\n",
       "      <th>3</th>\n",
       "      <td>3159,0,0,0,0,0,0,0,0,0,0,0,0,9,0,0,0,0,0,0,0,0...</td>\n",
       "    </tr>\n",
       "    <tr>\n",
       "      <th>4</th>\n",
       "      <td>3258,0,0,0,0,0,0,0,0,0,0,0,0,20,1,0,0,0,0,0,0,...</td>\n",
       "    </tr>\n",
       "  </tbody>\n",
       "</table>\n",
       "</div>"
      ],
      "text/plain": [
       "  ,AAGE,AANCSTR1,AANCSTR2,AAUGMENT,ABIRTHPL,ACITIZEN,ACLASS,ADEPART,ADISABL1,ADISABL2,AENGLISH,AFERTIL,AGE,AHISPAN,AHOUR89,AHOURS,AIMMIGR,AINCOME1,AINCOME2,AINCOME3,AINCOME4,AINCOME5,AINCOME6,AINCOME7,AINCOME8,AINDUSTR,ALABOR,ALANG1,ALANG2,ALSTWRK,AMARITAL,AMEANS,AMIGSTAT,AMOBLLIM,AMOBLTY,ANCSTRY1,ANCSTRY2,AOCCUP,APERCARE,APOWST,ARACE,ARELAT1,ARIDERS,ASCHOOL,ASERVPER,ASEX,ATRAVTME,AVAIL,AVETS1,AWKS89,AWORK89,AYEARSCH,AYRSSERV,CITIZEN,CLASS,DEPART,DISABL1,DISABL2,ENGLISH,FEB55,FERTIL,HISPANIC,HOUR89,HOURS,IMMIGR,INCOME1,INCOME2,INCOME3,INCOME4,INCOME5,INCOME6,INCOME7,INCOME8,INDUSTRY,KOREAN,LANG1,LANG2,LOOKING,MARITAL,MAY75880,MEANS,MIGPUMA,MIGSTATE,MILITARY,MOBILITY,MOBILLIM,OCCUP,OTHRSERV,PERSCARE,POB,POVERTY,POWPUMA,POWSTATE,PWGT1,RACE,RAGECHLD,REARNING,RECTYPE,RELAT1,RELAT2,REMPLPAR,RIDERS,RLABOR,ROWNCHLD,RPINCOME,RPOB,RRELCHLD,RSPOUSE,RVETSERV,SCHOOL,SEPT80,SERIALNO,SEX,SUBFAM1,SUBFAM2,TMPABSNT,TRAVTIME,VIETNAM,WEEK89,WORK89,WORKLWK,WWII,YEARSCH,YEARWRK,YRSSERV\n",
       "0  246,0,0,0,0,0,0,0,0,0,0,0,0,25,0,0,0,0,1,1,1,2...                                                                                                                                                                                                                                                                                                                                                                                                                                                                                                                                                                                                                                                                                                                                                                                                                                                                                                                                                               \n",
       "1  1009,0,0,0,0,0,0,0,0,0,0,0,0,36,0,0,0,0,0,0,0,...                                                                                                                                                                                                                                                                                                                                                                                                                                                                                                                                                                                                                                                                                                                                                                                                                                                                                                                                                               \n",
       "2  2384,0,0,0,0,0,0,0,0,0,0,0,0,35,0,0,0,0,0,0,0,...                                                                                                                                                                                                                                                                                                                                                                                                                                                                                                                                                                                                                                                                                                                                                                                                                                                                                                                                                               \n",
       "3  3159,0,0,0,0,0,0,0,0,0,0,0,0,9,0,0,0,0,0,0,0,0...                                                                                                                                                                                                                                                                                                                                                                                                                                                                                                                                                                                                                                                                                                                                                                                                                                                                                                                                                               \n",
       "4  3258,0,0,0,0,0,0,0,0,0,0,0,0,20,1,0,0,0,0,0,0,...                                                                                                                                                                                                                                                                                                                                                                                                                                                                                                                                                                                                                                                                                                                                                                                                                                                                                                                                                               "
      ]
     },
     "execution_count": 8,
     "metadata": {},
     "output_type": "execute_result"
    }
   ],
   "source": [
    "df.head()"
   ]
  }
 ],
 "metadata": {
  "kernelspec": {
   "display_name": "Python 3",
   "language": "python",
   "name": "python3"
  },
  "language_info": {
   "codemirror_mode": {
    "name": "ipython",
    "version": 3
   },
   "file_extension": ".py",
   "mimetype": "text/x-python",
   "name": "python",
   "nbconvert_exporter": "python",
   "pygments_lexer": "ipython3",
   "version": "3.5.2"
  }
 },
 "nbformat": 4,
 "nbformat_minor": 2
}
